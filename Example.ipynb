{
 "cells": [
  {
   "cell_type": "markdown",
   "metadata": {},
   "source": [
    "# Setup\n"
   ]
  },
  {
   "cell_type": "code",
   "execution_count": 35,
   "metadata": {},
   "outputs": [
    {
     "name": "stdout",
     "output_type": "stream",
     "text": [
      "-- Found pybind11: /usr/include (found version \"2.10.3\")\n",
      "\u001b[0mCUDA_TOOLKIT_ROOT_DIR not found or specified\u001b[0m\n",
      "-- Could NOT find CUDA (missing: CUDA_TOOLKIT_ROOT_DIR CUDA_NVCC_EXECUTABLE CUDA_INCLUDE_DIRS CUDA_CUDART_LIBRARY) \n",
      "-- Configuring done\n",
      "-- Generating done\n",
      "-- Build files have been written to: /home/gensenju/Documents/DL sys/dlsys-final/build\n",
      "make[1]: Entering directory '/home/gensenju/Documents/DL sys/dlsys-final/build'\n",
      "[100%] Built target ndarray_backend_cpu\n",
      "make[1]: Leaving directory '/home/gensenju/Documents/DL sys/dlsys-final/build'\n"
     ]
    }
   ],
   "source": [
    "!make"
   ]
  },
  {
   "cell_type": "code",
   "execution_count": 36,
   "metadata": {
    "scrolled": true
   },
   "outputs": [],
   "source": [
    "import sys\n",
    "sys.path.append('./python')\n",
    "import needle as ndl\n",
    "from needle import nn\n",
    "import numpy as np"
   ]
  },
  {
   "cell_type": "markdown",
   "metadata": {},
   "source": [
    "## Создание тензоров"
   ]
  },
  {
   "cell_type": "code",
   "execution_count": 37,
   "metadata": {},
   "outputs": [
    {
     "data": {
      "text/plain": [
       "needle.Tensor([[1 2 3]\n",
       " [3 2 1]])"
      ]
     },
     "execution_count": 37,
     "metadata": {},
     "output_type": "execute_result"
    }
   ],
   "source": [
    "ndl.Tensor([[1, 2, 3], [3, 2, 1]])"
   ]
  },
  {
   "cell_type": "code",
   "execution_count": 38,
   "metadata": {},
   "outputs": [
    {
     "data": {
      "text/plain": [
       "needle.Tensor([[1 2 3]\n",
       " [3 2 1]])"
      ]
     },
     "execution_count": 38,
     "metadata": {},
     "output_type": "execute_result"
    }
   ],
   "source": [
    "ndl.Tensor(np.array([[1, 2, 3], [3, 2, 1]]))"
   ]
  },
  {
   "cell_type": "markdown",
   "metadata": {},
   "source": [
    "## Операции над тензорами и autogradient"
   ]
  },
  {
   "cell_type": "code",
   "execution_count": 39,
   "metadata": {},
   "outputs": [],
   "source": [
    "np.random.seed(42)"
   ]
  },
  {
   "cell_type": "code",
   "execution_count": 40,
   "metadata": {},
   "outputs": [
    {
     "data": {
      "text/plain": [
       "needle.Tensor([[0.37454012 0.9507143  0.7319939 ]\n",
       " [0.5986585  0.15601864 0.15599452]\n",
       " [0.05808361 0.8661761  0.601115  ]])"
      ]
     },
     "execution_count": 40,
     "metadata": {},
     "output_type": "execute_result"
    }
   ],
   "source": [
    "A = ndl.init.rand(3, 3)\n",
    "A"
   ]
  },
  {
   "cell_type": "code",
   "execution_count": 41,
   "metadata": {},
   "outputs": [
    {
     "data": {
      "text/plain": [
       "needle.Tensor([[0.37454012 0.5986585  0.05808361]\n",
       " [0.9507143  0.15601864 0.8661761 ]\n",
       " [0.7319939  0.15599452 0.601115  ]])"
      ]
     },
     "execution_count": 41,
     "metadata": {},
     "output_type": "execute_result"
    }
   ],
   "source": [
    "A.transpose()"
   ]
  },
  {
   "cell_type": "code",
   "execution_count": 42,
   "metadata": {},
   "outputs": [],
   "source": [
    "w1, A, w2 = ndl.Tensor([[1, 2]]), ndl.Tensor([[1, 2], [1, 2]]), ndl.Tensor([[1], [2]])\n",
    "B = w1 @ A @ w2"
   ]
  },
  {
   "cell_type": "code",
   "execution_count": 43,
   "metadata": {},
   "outputs": [
    {
     "data": {
      "text/plain": [
       "((needle.Tensor([[3 6]]),\n",
       "  needle.Tensor([[1]\n",
       "   [2]])),\n",
       " <needle.ops.MatMul at 0x7f9e1bf21060>)"
      ]
     },
     "execution_count": 43,
     "metadata": {},
     "output_type": "execute_result"
    }
   ],
   "source": [
    "B.inputs, B.op"
   ]
  },
  {
   "cell_type": "code",
   "execution_count": 44,
   "metadata": {},
   "outputs": [],
   "source": [
    "B.backward() # вычисление всех градиентов"
   ]
  },
  {
   "cell_type": "code",
   "execution_count": 45,
   "metadata": {},
   "outputs": [
    {
     "data": {
      "text/plain": [
       "needle.Tensor([[1 2]\n",
       " [2 4]])"
      ]
     },
     "execution_count": 45,
     "metadata": {},
     "output_type": "execute_result"
    }
   ],
   "source": [
    "A.grad"
   ]
  },
  {
   "cell_type": "markdown",
   "metadata": {},
   "source": [
    "## Создание слоев нейронных сетей и пример обучения модели"
   ]
  },
  {
   "cell_type": "code",
   "execution_count": 46,
   "metadata": {},
   "outputs": [
    {
     "data": {
      "text/plain": [
       "needle.Tensor([[ 1.354586   -0.7507128   0.00246954 -0.34888786 -0.27378154]])"
      ]
     },
     "execution_count": 46,
     "metadata": {},
     "output_type": "execute_result"
    }
   ],
   "source": [
    "f = ndl.nn.Linear(10, 5)\n",
    "x = ndl.init.randn(1, 10)\n",
    "f(x)"
   ]
  },
  {
   "cell_type": "code",
   "execution_count": 47,
   "metadata": {},
   "outputs": [],
   "source": [
    "def get_tensor(*shape, entropy=1):\n",
    "    np.random.seed(np.prod(shape) * len(shape) * entropy)\n",
    "    return ndl.Tensor(np.random.randint(0, 100, size=shape) / 20, dtype=\"float32\")\n",
    "\n",
    "def get_int_tensor(*shape, low=0, high=10, entropy=1):\n",
    "    np.random.seed(np.prod(shape) * len(shape) * entropy)\n",
    "    return ndl.Tensor(np.random.randint(low, high, size=shape))\n",
    "\n",
    "def learn_model_1d(feature_size, nclasses, _model, optimizer, epochs=1, **kwargs):\n",
    "    np.random.seed(42)\n",
    "    model = _model([])\n",
    "    X = get_tensor(1024, feature_size).cached_data\n",
    "    y = get_int_tensor(1024, low=0, high=nclasses).cached_data.astype(np.uint8)\n",
    "    m = X.shape[0]\n",
    "    batch = 32\n",
    "\n",
    "    loss_func = ndl.nn.SoftmaxLoss()\n",
    "    opt = optimizer(model.parameters(), **kwargs)\n",
    "\n",
    "    for _ in range(epochs):\n",
    "        for i, (X0, y0) in enumerate(zip(np.array_split(X, m//batch), np.array_split(y, m//batch))):\n",
    "            opt.reset_grad()\n",
    "            X0, y0 = ndl.Tensor(X0, dtype=\"float32\"), ndl.Tensor(y0)\n",
    "            out = model(X0)\n",
    "            loss = loss_func(out, y0)\n",
    "            loss.backward()\n",
    "            # Opt should not change gradients.\n",
    "            grad_before = model.parameters()[0].grad.detach().cached_data\n",
    "            opt.step()\n",
    "            grad_after = model.parameters()[0].grad.detach().cached_data\n",
    "            np.testing.assert_allclose(grad_before, grad_after, rtol=1e-5, atol=1e-5, \\\n",
    "                                       err_msg=\"Optim should not modify gradients in place\")\n",
    "\n",
    "\n",
    "    return np.array(loss.cached_data)"
   ]
  },
  {
   "cell_type": "code",
   "execution_count": 48,
   "metadata": {},
   "outputs": [
    {
     "data": {
      "text/plain": [
       "array(3.20700884)"
      ]
     },
     "execution_count": 48,
     "metadata": {},
     "output_type": "execute_result"
    }
   ],
   "source": [
    "learn_model_1d(64, 16, lambda z: ndl.nn.Sequential(nn.Linear(64, 32), nn.ReLU(), nn.Linear(32, 16)), ndl.optim.SGD, lr=0.01, momentum=0.0)\n",
    "        "
   ]
  }
 ],
 "metadata": {
  "kernelspec": {
   "display_name": "Python 3 (ipykernel)",
   "language": "python",
   "name": "python3"
  },
  "language_info": {
   "codemirror_mode": {
    "name": "ipython",
    "version": 3
   },
   "file_extension": ".py",
   "mimetype": "text/x-python",
   "name": "python",
   "nbconvert_exporter": "python",
   "pygments_lexer": "ipython3",
   "version": "3.10.9"
  }
 },
 "nbformat": 4,
 "nbformat_minor": 4
}
