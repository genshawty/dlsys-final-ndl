{
 "cells": [
  {
   "cell_type": "markdown",
   "metadata": {},
   "source": [
    "# Setup\n"
   ]
  },
  {
   "cell_type": "code",
   "execution_count": 1,
   "metadata": {},
   "outputs": [
    {
     "name": "stdout",
     "output_type": "stream",
     "text": [
      "\u001b[0mCMake Error: The current CMakeCache.txt directory /home/gensenju/Documents/DL sys/dlsys-final/build/CMakeCache.txt is different than the directory /home/gensenju/Documents/DL sys/Needle/build where CMakeCache.txt was created. This may result in binaries being created in the wrong place. If you are not sure, reedit the CMakeCache.txt\u001b[0m\r\n",
      "\u001b[0mCMake Error: The source \"/home/gensenju/Documents/DL sys/dlsys-final/CMakeLists.txt\" does not match the source \"/home/gensenju/Documents/DL sys/Needle/CMakeLists.txt\" used to generate cache.  Re-run cmake with a different source directory.\u001b[0m\r\n",
      "make: *** [Makefile:8: lib] Error 1\r\n"
     ]
    }
   ],
   "source": [
    "!make"
   ]
  },
  {
   "cell_type": "code",
   "execution_count": 2,
   "metadata": {
    "scrolled": true
   },
   "outputs": [],
   "source": [
    "import sys\n",
    "sys.path.append('./python')\n",
    "import needle as ndl\n",
    "from needle import nn\n",
    "import numpy as np"
   ]
  },
  {
   "cell_type": "markdown",
   "metadata": {},
   "source": [
    "## Создание тензоров"
   ]
  },
  {
   "cell_type": "code",
   "execution_count": 3,
   "metadata": {},
   "outputs": [
    {
     "data": {
      "text/plain": [
       "needle.Tensor([[1 2 3]\n",
       " [3 2 1]])"
      ]
     },
     "execution_count": 3,
     "metadata": {},
     "output_type": "execute_result"
    }
   ],
   "source": [
    "ndl.Tensor([[1, 2, 3], [3, 2, 1]])"
   ]
  },
  {
   "cell_type": "code",
   "execution_count": 4,
   "metadata": {},
   "outputs": [
    {
     "data": {
      "text/plain": [
       "needle.Tensor([[1 2 3]\n",
       " [3 2 1]])"
      ]
     },
     "execution_count": 4,
     "metadata": {},
     "output_type": "execute_result"
    }
   ],
   "source": [
    "ndl.Tensor(np.array([[1, 2, 3], [3, 2, 1]]))"
   ]
  },
  {
   "cell_type": "markdown",
   "metadata": {},
   "source": [
    "## Операции над тензорами и autogradient"
   ]
  },
  {
   "cell_type": "code",
   "execution_count": 17,
   "metadata": {},
   "outputs": [],
   "source": [
    "np.random.seed(42)"
   ]
  },
  {
   "cell_type": "code",
   "execution_count": 6,
   "metadata": {},
   "outputs": [
    {
     "data": {
      "text/plain": [
       "needle.Tensor([[0.23378117 0.8887989  0.07809281]\n",
       " [0.0369595  0.97608066 0.22362131]\n",
       " [0.59372574 0.39184824 0.0528938 ]])"
      ]
     },
     "execution_count": 6,
     "metadata": {},
     "output_type": "execute_result"
    }
   ],
   "source": [
    "A = ndl.init.rand(3, 3)\n",
    "A"
   ]
  },
  {
   "cell_type": "code",
   "execution_count": 7,
   "metadata": {},
   "outputs": [
    {
     "data": {
      "text/plain": [
       "needle.Tensor([[0.23378117 0.0369595  0.59372574]\n",
       " [0.8887989  0.97608066 0.39184824]\n",
       " [0.07809281 0.22362131 0.0528938 ]])"
      ]
     },
     "execution_count": 7,
     "metadata": {},
     "output_type": "execute_result"
    }
   ],
   "source": [
    "A.transpose()"
   ]
  },
  {
   "cell_type": "code",
   "execution_count": 4,
   "metadata": {},
   "outputs": [],
   "source": [
    "w1, A, w2 = ndl.Tensor([[1, 2]]), ndl.Tensor([[1, 2], [1, 2]]), ndl.Tensor([[1], [2]])\n",
    "B = w1 @ A @ w2"
   ]
  },
  {
   "cell_type": "code",
   "execution_count": 5,
   "metadata": {},
   "outputs": [
    {
     "data": {
      "text/plain": [
       "((needle.Tensor([[3 6]]),\n",
       "  needle.Tensor([[1]\n",
       "   [2]])),\n",
       " <needle.ops.MatMul at 0x7febe8387ca0>)"
      ]
     },
     "execution_count": 5,
     "metadata": {},
     "output_type": "execute_result"
    }
   ],
   "source": [
    "B.inputs, B.op"
   ]
  },
  {
   "cell_type": "code",
   "execution_count": 10,
   "metadata": {},
   "outputs": [],
   "source": [
    "B.backward() # вычисление всех градиентов"
   ]
  },
  {
   "cell_type": "code",
   "execution_count": 11,
   "metadata": {},
   "outputs": [
    {
     "data": {
      "text/plain": [
       "needle.Tensor([[1 2]\n",
       " [2 4]])"
      ]
     },
     "execution_count": 11,
     "metadata": {},
     "output_type": "execute_result"
    }
   ],
   "source": [
    "A.grad"
   ]
  },
  {
   "cell_type": "markdown",
   "metadata": {},
   "source": [
    "## Создание слоев нейронных сетей и пример обучения модели"
   ]
  },
  {
   "cell_type": "code",
   "execution_count": null,
   "metadata": {},
   "outputs": [],
   "source": [
    "linear_forward((10, 5), (1, 10)"
   ]
  },
  {
   "cell_type": "code",
   "execution_count": 19,
   "metadata": {},
   "outputs": [
    {
     "data": {
      "text/plain": [
       "needle.Tensor([[ 0.894166    3.143468    0.7798127   0.01299441 -0.7340246 ]])"
      ]
     },
     "execution_count": 19,
     "metadata": {},
     "output_type": "execute_result"
    }
   ],
   "source": [
    "f = ndl.nn.Linear(10, 5)\n",
    "x = ndl.init.randn(1, 10)\n",
    "f(x)"
   ]
  },
  {
   "cell_type": "code",
   "execution_count": 31,
   "metadata": {},
   "outputs": [],
   "source": [
    "def get_tensor(*shape, entropy=1):\n",
    "    np.random.seed(np.prod(shape) * len(shape) * entropy)\n",
    "    return ndl.Tensor(np.random.randint(0, 100, size=shape) / 20, dtype=\"float32\")\n",
    "\n",
    "def get_int_tensor(*shape, low=0, high=10, entropy=1):\n",
    "    np.random.seed(np.prod(shape) * len(shape) * entropy)\n",
    "    return ndl.Tensor(np.random.randint(low, high, size=shape))\n",
    "\n",
    "def learn_model_1d(feature_size, nclasses, _model, optimizer, epochs=1, **kwargs):\n",
    "    np.random.seed(42)\n",
    "    model = _model([])\n",
    "    X = get_tensor(1024, feature_size).cached_data\n",
    "    y = get_int_tensor(1024, low=0, high=nclasses).cached_data.astype(np.uint8)\n",
    "    m = X.shape[0]\n",
    "    batch = 32\n",
    "\n",
    "    loss_func = ndl.nn.SoftmaxLoss()\n",
    "    opt = optimizer(model.parameters(), **kwargs)\n",
    "\n",
    "    for _ in range(epochs):\n",
    "        for i, (X0, y0) in enumerate(zip(np.array_split(X, m//batch), np.array_split(y, m//batch))):\n",
    "            opt.reset_grad()\n",
    "            X0, y0 = ndl.Tensor(X0, dtype=\"float32\"), ndl.Tensor(y0)\n",
    "            out = model(X0)\n",
    "            loss = loss_func(out, y0)\n",
    "            loss.backward()\n",
    "            # Opt should not change gradients.\n",
    "            grad_before = model.parameters()[0].grad.detach().cached_data\n",
    "            opt.step()\n",
    "            grad_after = model.parameters()[0].grad.detach().cached_data\n",
    "            np.testing.assert_allclose(grad_before, grad_after, rtol=1e-5, atol=1e-5, \\\n",
    "                                       err_msg=\"Optim should not modify gradients in place\")\n",
    "\n",
    "\n",
    "    return np.array(loss.cached_data)"
   ]
  },
  {
   "cell_type": "code",
   "execution_count": 32,
   "metadata": {},
   "outputs": [
    {
     "data": {
      "text/plain": [
       "array(3.20700884)"
      ]
     },
     "execution_count": 32,
     "metadata": {},
     "output_type": "execute_result"
    }
   ],
   "source": [
    "learn_model_1d(64, 16, lambda z: ndl.nn.Sequential(nn.Linear(64, 32), nn.ReLU(), nn.Linear(32, 16)), ndl.optim.SGD, lr=0.01, momentum=0.0)\n",
    "        "
   ]
  }
 ],
 "metadata": {
  "kernelspec": {
   "display_name": "Python 3 (ipykernel)",
   "language": "python",
   "name": "python3"
  },
  "language_info": {
   "codemirror_mode": {
    "name": "ipython",
    "version": 3
   },
   "file_extension": ".py",
   "mimetype": "text/x-python",
   "name": "python",
   "nbconvert_exporter": "python",
   "pygments_lexer": "ipython3",
   "version": "3.10.9"
  }
 },
 "nbformat": 4,
 "nbformat_minor": 4
}
